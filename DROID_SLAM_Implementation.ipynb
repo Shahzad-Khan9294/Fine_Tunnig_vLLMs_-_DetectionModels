{
  "nbformat": 4,
  "nbformat_minor": 0,
  "metadata": {
    "colab": {
      "provenance": [],
      "gpuType": "T4"
    },
    "kernelspec": {
      "name": "python3",
      "display_name": "Python 3"
    },
    "language_info": {
      "name": "python"
    },
    "accelerator": "GPU"
  },
  "cells": [
    {
      "cell_type": "code",
      "execution_count": null,
      "metadata": {
        "id": "NOsKIODb7nKo"
      },
      "outputs": [],
      "source": [
        "!git clone --recursive https://github.com/princeton-vl/DROID-SLAM.git"
      ]
    },
    {
      "cell_type": "code",
      "source": [
        "import sys, os\n",
        "\n",
        "sys.path.insert(0, \"/content/DROID-SLAM\")\n",
        "sys.path.insert(0, \"/content/DROID-SLAM/thirdparty/pytorch_scatter\")"
      ],
      "metadata": {
        "id": "8tAzZeY1758v"
      },
      "execution_count": null,
      "outputs": []
    },
    {
      "cell_type": "code",
      "source": [
        "%cd /content/DROID-SLAM"
      ],
      "metadata": {
        "id": "85Pj3kgt9Lx4"
      },
      "execution_count": null,
      "outputs": []
    },
    {
      "cell_type": "code",
      "source": [
        "import os\n",
        "print(os.getcwd())"
      ],
      "metadata": {
        "id": "OeE2bkHe9L0t"
      },
      "execution_count": null,
      "outputs": []
    },
    {
      "cell_type": "code",
      "source": [
        "!./tools/download_model.sh"
      ],
      "metadata": {
        "id": "9yFUZOrU9L3O"
      },
      "execution_count": null,
      "outputs": []
    },
    {
      "cell_type": "code",
      "source": [
        "!./tools/download_sample_data.sh"
      ],
      "metadata": {
        "id": "xcsgvui2-jpO"
      },
      "execution_count": null,
      "outputs": []
    },
    {
      "cell_type": "code",
      "source": [
        "!pip install -r requirements.txt"
      ],
      "metadata": {
        "id": "Qy6fv4QqCzcp"
      },
      "execution_count": null,
      "outputs": []
    },
    {
      "cell_type": "code",
      "source": [
        "!pip install moderngl moderngl-window"
      ],
      "metadata": {
        "id": "oicNKLB9Czg2"
      },
      "execution_count": null,
      "outputs": []
    },
    {
      "cell_type": "code",
      "source": [
        "!pip install thirdparty/lietorch"
      ],
      "metadata": {
        "id": "mpVb--r3Czk3"
      },
      "execution_count": null,
      "outputs": []
    },
    {
      "cell_type": "code",
      "source": [
        "!pip install thirdparty/pytorch_scatter"
      ],
      "metadata": {
        "id": "tmbgjm_kCzmR"
      },
      "execution_count": null,
      "outputs": []
    },
    {
      "cell_type": "code",
      "source": [
        "import torch\n",
        "print(torch.__version__)\n",
        "print(torch.version.cuda)\n"
      ],
      "metadata": {
        "id": "dkXI7sUuSUqe"
      },
      "execution_count": null,
      "outputs": []
    },
    {
      "cell_type": "code",
      "source": [
        "!rm -rf /content/DROID-SLAM/thirdparty/pytorch_scatter"
      ],
      "metadata": {
        "id": "7Osljy2LRqCn"
      },
      "execution_count": null,
      "outputs": []
    },
    {
      "cell_type": "code",
      "source": [
        "!pip install torch-scatter -f https://data.pyg.org/whl/torch-2.6.0+cu124.html --force-reinstall"
      ],
      "metadata": {
        "id": "FkT9GpmLTBLx"
      },
      "execution_count": null,
      "outputs": []
    },
    {
      "cell_type": "code",
      "source": [
        "import torch\n",
        "from torch_scatter import scatter_max"
      ],
      "metadata": {
        "id": "5hBsTGWYQ4mQ"
      },
      "execution_count": null,
      "outputs": []
    },
    {
      "cell_type": "code",
      "source": [
        "\n",
        "src = torch.tensor([[2, 0, 1, 4, 3], [0, 2, 1, 3, 4]])\n",
        "index = torch.tensor([[4, 5, 4, 2, 3], [0, 0, 2, 2, 1]])\n",
        "\n",
        "out, argmax = scatter_max(src, index, dim=-1)"
      ],
      "metadata": {
        "id": "6fRuGhV8PdWu"
      },
      "execution_count": null,
      "outputs": []
    },
    {
      "cell_type": "code",
      "source": [
        "!pip install -e ."
      ],
      "metadata": {
        "id": "6CMsWbtsMimr"
      },
      "execution_count": null,
      "outputs": []
    },
    {
      "cell_type": "code",
      "source": [
        "!nvidia-smi\n",
        "!python -c \"import torch; print(torch.version.cuda)\""
      ],
      "metadata": {
        "id": "78lKmOweON-_"
      },
      "execution_count": null,
      "outputs": []
    },
    {
      "cell_type": "code",
      "source": [
        "#!python demo.py --imagedir=data/sfm_bench/rgb --calib=calib/eth.txt --disable_vis"
      ],
      "metadata": {
        "id": "WjKkFf9i-t9y"
      },
      "execution_count": null,
      "outputs": []
    },
    {
      "cell_type": "code",
      "source": [
        "!python demo.py --imagedir=data/sfm_bench/rgb --calib=calib/eth.txt --reconstruction_path /content/my_reconstruction.pth --disable_vis"
      ],
      "metadata": {
        "id": "B0F-sllqWvS2"
      },
      "execution_count": null,
      "outputs": []
    },
    {
      "cell_type": "code",
      "source": [
        "!python view_reconstruction.py /content/my_reconstruction.pth"
      ],
      "metadata": {
        "id": "IVkOO21kYlxx"
      },
      "execution_count": null,
      "outputs": []
    },
    {
      "cell_type": "code",
      "source": [],
      "metadata": {
        "id": "3r-QEerAYr7v"
      },
      "execution_count": null,
      "outputs": []
    },
    {
      "cell_type": "code",
      "source": [
        "import torch\n",
        "import argparse\n",
        "import droid_backends\n",
        "import open3d as o3d\n",
        "from lietorch import SE3\n",
        "from cuda_timer import CudaTimer\n",
        "from visualization import create_camera_actor\n",
        "\n",
        "def create_ply_from_reconstruction(filename: str, filter_thresh=0.005, filter_count=2, save_ply=True):\n",
        "    # Load reconstruction file\n",
        "    reconstruction = torch.load(filename)\n",
        "    images = reconstruction[\"images\"].cuda()[..., ::2, ::2]  # downsample for speed\n",
        "    disps = reconstruction[\"disps\"].cuda()[..., ::2, ::2]\n",
        "    poses = reconstruction[\"poses\"].cuda()\n",
        "    intrinsics = 4 * reconstruction[\"intrinsics\"].cuda()  # scale if needed\n",
        "\n",
        "    disps = disps.contiguous()\n",
        "    index = torch.arange(len(images), device=\"cuda\")\n",
        "    thresh = filter_thresh * torch.ones_like(disps.mean(dim=[1,2]))\n",
        "\n",
        "    # Backproject points\n",
        "    with CudaTimer(\"iproj\"):\n",
        "        points = droid_backends.iproj(SE3(poses).inv().data, disps, intrinsics[0])\n",
        "    colors = images[:, [2,1,0]].permute(0,2,3,1) / 255.0  # convert BGR->RGB\n",
        "\n",
        "    # Filter points\n",
        "    with CudaTimer(\"filter\"):\n",
        "        counts = droid_backends.depth_filter(poses, disps, intrinsics[0], index, thresh)\n",
        "    mask = (counts >= filter_count) & (disps > 0.25 * disps.mean())\n",
        "\n",
        "    points_np = points[mask].cpu().numpy()\n",
        "    colors_np = colors[mask].cpu().numpy()\n",
        "\n",
        "    # Create Open3D point cloud\n",
        "    pcd = o3d.geometry.PointCloud()\n",
        "    pcd.points = o3d.utility.Vector3dVector(points_np)\n",
        "    pcd.colors = o3d.utility.Vector3dVector(colors_np)\n",
        "\n",
        "    # Add camera frustums\n",
        "    pose_mats = SE3(poses).inv().matrix().cpu().numpy()\n",
        "    camera_meshes = []\n",
        "    for i in range(len(poses)):\n",
        "        cam_actor = create_camera_actor(False)  # small frustum\n",
        "        cam_actor.transform(pose_mats[i])\n",
        "        camera_meshes.append(cam_actor)\n",
        "\n",
        "    # Merge point cloud + camera frustums\n",
        "    if save_ply:\n",
        "        combined_mesh = o3d.geometry.TriangleMesh()\n",
        "        combined_mesh += pcd\n",
        "        for cam in camera_meshes:\n",
        "            combined_mesh += cam\n",
        "\n",
        "        ply_filename = filename.replace(\".pth\", \"_with_cameras.ply\")\n",
        "        o3d.io.write_triangle_mesh(ply_filename, combined_mesh)\n",
        "        print(f\"Saved 3D point cloud with cameras to {ply_filename}\")\n",
        "\n",
        "if __name__ == \"__main__\":\n",
        "    parser = argparse.ArgumentParser()\n",
        "    parser.add_argument(\"filename\", type=str, help=\"path to reconstruction .pth file\")\n",
        "    parser.add_argument(\"--filter_threshold\", type=float, default=0.005)\n",
        "    parser.add_argument(\"--filter_count\", type=int, default=3)\n",
        "    args = parser.parse_args()\n",
        "\n",
        "    create_ply_from_reconstruction(args.filename, args.filter_threshold, args.filter_count)"
      ],
      "metadata": {
        "id": "RCJX6g6BUv-y"
      },
      "execution_count": null,
      "outputs": []
    },
    {
      "cell_type": "code",
      "source": [],
      "metadata": {
        "id": "_fLBs5m4mgZA"
      },
      "execution_count": null,
      "outputs": []
    }
  ]
}