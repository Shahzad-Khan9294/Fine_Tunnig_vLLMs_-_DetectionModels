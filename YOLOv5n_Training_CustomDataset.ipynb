{
  "nbformat": 4,
  "nbformat_minor": 0,
  "metadata": {
    "colab": {
      "provenance": []
    },
    "kernelspec": {
      "name": "python3",
      "display_name": "Python 3"
    },
    "language_info": {
      "name": "python"
    }
  },
  "cells": [
    {
      "cell_type": "markdown",
      "source": [
        "**Official GitHub Repo of YOLOv5n: https://github.com/ultralytics/yolov5**"
      ],
      "metadata": {
        "id": "4YM9wwUC8t3F"
      }
    },
    {
      "cell_type": "markdown",
      "source": [
        "**YOLO-Object Detection Datase Overview: https://docs.ultralytics.com/datasets/detect/#ultralytics-yolo-format**"
      ],
      "metadata": {
        "id": "EWwTNUCG8YDI"
      }
    },
    {
      "cell_type": "markdown",
      "source": [
        "**Training a Custom Object Detection Model With Yolo-V5: https://medium.com/analytics-vidhya/training-a-custom-object-detection-model-with-yolo-v5-aa9974c07088**"
      ],
      "metadata": {
        "id": "Q6wZVcR78kr5"
      }
    },
    {
      "cell_type": "markdown",
      "source": [
        "# **TRAINING YOLOv5n ON COLAB - METHOD#1**"
      ],
      "metadata": {
        "id": "M8gRNUxJ8oa-"
      }
    },
    {
      "cell_type": "markdown",
      "source": [
        "**Enable T4-GPU**"
      ],
      "metadata": {
        "id": "REtSL7tF9H6x"
      }
    },
    {
      "cell_type": "code",
      "execution_count": null,
      "metadata": {
        "id": "9rjGvZH76jSg"
      },
      "outputs": [],
      "source": [
        "import torch\n",
        "import torchvision\n",
        "print(torch.__version__)\n",
        "print(torch.version.cuda)\n",
        "print(torch.cuda.is_available())"
      ]
    },
    {
      "cell_type": "code",
      "source": [
        "!nvidia-smi"
      ],
      "metadata": {
        "id": "Nxg2Qlvl9FHV"
      },
      "execution_count": null,
      "outputs": []
    },
    {
      "cell_type": "code",
      "source": [
        "import torch\n",
        "\n",
        "if torch.cuda.is_available():\n",
        "    gpu_id = torch.cuda.current_device()\n",
        "    print(f\"GPU Name: {torch.cuda.get_device_name(gpu_id)}\")\n",
        "    print(f\"Total Memory: {round(torch.cuda.get_device_properties(gpu_id).total_memory / (1024 ** 3), 2)} GB\")\n",
        "    print(f\"Allocated Memory: {round(torch.cuda.memory_allocated(gpu_id) / (1024 ** 3), 2)} GB\")\n",
        "    print(f\"Reserved Memory: {round(torch.cuda.memory_reserved(gpu_id) / (1024 ** 3), 2)} GB\")\n",
        "else:\n",
        "    print(\"No GPU available\")"
      ],
      "metadata": {
        "id": "cj9yt0rY9FQP"
      },
      "execution_count": null,
      "outputs": []
    },
    {
      "cell_type": "code",
      "source": [
        "!pip install ultralytics"
      ],
      "metadata": {
        "id": "6bJ_udDu9FSq"
      },
      "execution_count": null,
      "outputs": []
    },
    {
      "cell_type": "markdown",
      "source": [
        "**Start Training**"
      ],
      "metadata": {
        "id": "kd6JOBe2-D0B"
      }
    },
    {
      "cell_type": "code",
      "source": [
        "from ultralytics import YOLO\n",
        "\n",
        "model = YOLO(\"yolov5n.pt\")  # Load a pretrained model\n",
        "\n",
        "# Train the model with your dataset\n",
        "model.train(\n",
        "    data='/content/drive/MyDrive/yolo_dataset_640/data.yaml',  # Path to your dataset .yaml file\n",
        "    epochs30,\n",
        "    imgsz=640,\n",
        "    batch=1\n",
        ")"
      ],
      "metadata": {
        "id": "jKGI1eqF9FWK"
      },
      "execution_count": null,
      "outputs": []
    },
    {
      "cell_type": "code",
      "source": [],
      "metadata": {
        "id": "hPqa2jm99b3n"
      },
      "execution_count": null,
      "outputs": []
    },
    {
      "cell_type": "markdown",
      "source": [
        "# **RUNNING YOLOV5n ON ANACONDA PROMPT - METHOD#2**"
      ],
      "metadata": {
        "id": "wac34fYK9cPu"
      }
    },
    {
      "cell_type": "code",
      "source": [
        "!conda create -n yolov5 python=3.9 -y\n",
        "!conda activate yolov5"
      ],
      "metadata": {
        "id": "LU73rmPz9lJ1"
      },
      "execution_count": null,
      "outputs": []
    },
    {
      "cell_type": "code",
      "source": [
        "!pip install -r requirements.txt"
      ],
      "metadata": {
        "id": "YGa-DilL9lMY"
      },
      "execution_count": null,
      "outputs": []
    },
    {
      "cell_type": "code",
      "source": [
        "# For CUDA 11.8 (common)\n",
        "!pip install torch torchvision torchaudio --index-url https://download.pytorch.org/whl/cu118"
      ],
      "metadata": {
        "id": "finlGFVT9lP_"
      },
      "execution_count": null,
      "outputs": []
    },
    {
      "cell_type": "code",
      "source": [
        "\"\"\"\n",
        "train: C:/Users/YourName/Documents/yolo_dataset/images/train\n",
        "val: C:/Users/YourName/Documents/yolo_dataset/images/val\n",
        "\n",
        "nc: 2  # number of classes\n",
        "names: ['class1', 'class2']  # replace with your class names\n",
        "\"\"\""
      ],
      "metadata": {
        "id": "26lCDUBO93VV"
      },
      "execution_count": null,
      "outputs": []
    },
    {
      "cell_type": "markdown",
      "source": [
        "**Start Training**"
      ],
      "metadata": {
        "id": "0Cygzlbg9_ZC"
      }
    },
    {
      "cell_type": "code",
      "source": [
        "!python train.py --img 640 --batch 1 --epochs 30 --data data.yaml --cfg models/yolov5n.yaml --weights yolov5n.pt --device 0"
      ],
      "metadata": {
        "id": "R_fKwZzs96kL"
      },
      "execution_count": null,
      "outputs": []
    },
    {
      "cell_type": "markdown",
      "source": [
        "**Check inference for testing**"
      ],
      "metadata": {
        "id": "TLByrwU1-ILS"
      }
    },
    {
      "cell_type": "code",
      "source": [
        "!python detect.py --weights runs/train/exp/weights/best.pt --img 640 --source your_image.jpg"
      ],
      "metadata": {
        "id": "PtRd--969-Mj"
      },
      "execution_count": null,
      "outputs": []
    }
  ]
}